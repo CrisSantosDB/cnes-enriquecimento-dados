{
 "cells": [
  {
   "cell_type": "code",
   "execution_count": 2,
   "id": "989b6a46",
   "metadata": {},
   "outputs": [
    {
     "ename": "ModuleNotFoundError",
     "evalue": "No module named 'requests'",
     "output_type": "error",
     "traceback": [
      "\u001b[31m---------------------------------------------------------------------------\u001b[39m",
      "\u001b[31mModuleNotFoundError\u001b[39m                       Traceback (most recent call last)",
      "\u001b[36mCell\u001b[39m\u001b[36m \u001b[39m\u001b[32mIn[2]\u001b[39m\u001b[32m, line 2\u001b[39m\n\u001b[32m      1\u001b[39m \u001b[38;5;28;01mimport\u001b[39;00m\u001b[38;5;250m \u001b[39m\u001b[34;01mjson\u001b[39;00m\n\u001b[32m----> \u001b[39m\u001b[32m2\u001b[39m \u001b[38;5;28;01mimport\u001b[39;00m\u001b[38;5;250m \u001b[39m\u001b[34;01mrequests\u001b[39;00m\n\u001b[32m      3\u001b[39m \u001b[38;5;28;01mimport\u001b[39;00m\u001b[38;5;250m \u001b[39m\u001b[34;01mpandas\u001b[39;00m\u001b[38;5;250m \u001b[39m\u001b[38;5;28;01mas\u001b[39;00m\u001b[38;5;250m \u001b[39m\u001b[34;01mpd\u001b[39;00m \n\u001b[32m      4\u001b[39m \u001b[38;5;28;01mimport\u001b[39;00m\u001b[38;5;250m \u001b[39m\u001b[34;01mtime\u001b[39;00m\n",
      "\u001b[31mModuleNotFoundError\u001b[39m: No module named 'requests'"
     ]
    }
   ],
   "source": [
    "import json\n",
    "import requests\n",
    "import pandas as pd \n",
    "import time"
   ]
  },
  {
   "cell_type": "code",
   "execution_count": null,
   "id": "23a13076",
   "metadata": {},
   "outputs": [],
   "source": [
    "df = pd.read_csv(\"/home/cristina/Projetos/cnes-enriquecimento-dados/CNES/data/cnes_amostra.csv\", encoding=\"latin1\", low_memory=False,nrows=50)"
   ]
  },
  {
   "cell_type": "code",
   "execution_count": null,
   "id": "8e776839",
   "metadata": {},
   "outputs": [],
   "source": [
    "def populate_cep_viacep(dataframe):\n",
    "    dataframe_vazio = pd.DataFrame()\n",
    "    cache = {}\n",
    "\n",
    "    for row in dataframe.itertuples():\n",
    "        cep = str(row.CO_CEP)\n",
    "\n",
    "        # Remove traços e espaços se tiver\n",
    "        cep = cep.replace(\"-\", \"\").strip()\n",
    "\n",
    "        # Ignora CEPs nulos ou muito curtos\n",
    "        if pd.isna(cep) or len(cep) < 8:\n",
    "            continue\n",
    "\n",
    "        if cep not in cache:\n",
    "            try:\n",
    "                response = requests.get(f'https://viacep.com.br/ws/{cep}/json/', timeout=5)\n",
    "                response.raise_for_status()\n",
    "                data = response.json()\n",
    "\n",
    "                # Se a API disser que o CEP não existe\n",
    "                if \"erro\" in data:\n",
    "                    print(f\"CEP inválido: {cep}\")\n",
    "                    continue\n",
    "\n",
    "                # Salva no cache como DataFrame\n",
    "                cache[cep] = pd.json_normalize(data)\n",
    "                time.sleep(0.5)  # pequena pausa para evitar bloqueio\n",
    "            except Exception as e:\n",
    "                print(f\"Erro ao consultar {cep}: {e}\")\n",
    "                continue\n",
    "\n",
    "        dataframe_vazio = pd.concat([dataframe_vazio, cache[cep]], ignore_index=True)\n",
    "\n",
    "    return dataframe_vazio"
   ]
  },
  {
   "cell_type": "code",
   "execution_count": null,
   "id": "b1f640ab",
   "metadata": {},
   "outputs": [],
   "source": [
    "df_ceps = cep_api_viacep(df)"
   ]
  },
  {
   "cell_type": "code",
   "execution_count": null,
   "id": "3f10ac64",
   "metadata": {},
   "outputs": [],
   "source": [
    "df_ceps[\"cep\"] = df_ceps[\"cep\"].str.replace(\"-\", \"\")"
   ]
  },
  {
   "cell_type": "code",
   "execution_count": null,
   "id": "bd7f3853",
   "metadata": {},
   "outputs": [],
   "source": [
    "df['CO_CEP'] = df['CO_CEP'].astype(str).str.zfill(8)"
   ]
  },
  {
   "cell_type": "code",
   "execution_count": null,
   "id": "db02f223",
   "metadata": {},
   "outputs": [],
   "source": [
    "df_enriquecido = df.merge(df_ceps, left_on='CO_CEP', right_on='cep', how='left')"
   ]
  }
 ],
 "metadata": {
  "kernelspec": {
   "display_name": "3.13.5",
   "language": "python",
   "name": "python3"
  },
  "language_info": {
   "codemirror_mode": {
    "name": "ipython",
    "version": 3
   },
   "file_extension": ".py",
   "mimetype": "text/x-python",
   "name": "python",
   "nbconvert_exporter": "python",
   "pygments_lexer": "ipython3",
   "version": "3.13.5"
  }
 },
 "nbformat": 4,
 "nbformat_minor": 5
}
