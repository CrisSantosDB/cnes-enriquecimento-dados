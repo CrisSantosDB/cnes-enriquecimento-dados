{
 "cells": [
  {
   "cell_type": "code",
   "execution_count": 62,
   "id": "08507031",
   "metadata": {},
   "outputs": [],
   "source": [
    "# Importar as bibliotecas necessarias\n",
    "\n",
    "import json\n",
    "import requests\n",
    "import pandas as pd \n",
    "import time"
   ]
  },
  {
   "cell_type": "code",
   "execution_count": 63,
   "id": "0c86c8e2",
   "metadata": {},
   "outputs": [],
   "source": [
    "# Ler o arquivo, coloquei só 100 linhas, por causa do limite de requisição da API, pois estou usando API FREE\n",
    "\n",
    "df = pd.read_csv(\"/home/cristina/Projetos/cnes-enriquecimento-dados/CNES/data/cnes_amostra.csv\", encoding=\"latin1\", low_memory=False,nrows=100)"
   ]
  },
  {
   "cell_type": "code",
   "execution_count": 65,
   "id": "bb93059a",
   "metadata": {},
   "outputs": [],
   "source": [
    "def cep_api_viacep(dataframe):\n",
    "    new_dataframe = pd.DataFrame()\n",
    "\n",
    "    for row in dataframe.itertuples():\n",
    "\n",
    "        try:\n",
    "            response = requests.get(f'https://viacep.com.br/ws/{row.CO_CEP}/json/',timeout=5)\n",
    "            response.raise_for_status()\n",
    "            response_df = pd.json_normalize(response.json())\n",
    "            new_dataframe = pd.concat([new_dataframe, response_df], ignore_index=True)\n",
    "\n",
    "        except requests.exceptions.RequestException as e:\n",
    "            print(f\"Erro com o CEP {row.CO_CEP}: {e}\")\n",
    "            continue\n",
    "    \n",
    "    return new_dataframe\n"
   ]
  },
  {
   "cell_type": "code",
   "execution_count": 66,
   "id": "7cf3ed72",
   "metadata": {},
   "outputs": [],
   "source": [
    "df_ceps = cep_api_viacep(df)"
   ]
  },
  {
   "cell_type": "code",
   "execution_count": 67,
   "id": "239574a8",
   "metadata": {},
   "outputs": [],
   "source": [
    "df_ceps[\"cep\"] = df_ceps[\"cep\"].str.replace(\"-\", \"\")"
   ]
  },
  {
   "cell_type": "code",
   "execution_count": 68,
   "id": "c36d6bc1",
   "metadata": {},
   "outputs": [],
   "source": [
    "# CO_CEP precisa estar como string com 8 dígitos (igual o 'cep' da API) para o merge funcionar\n",
    "df['CO_CEP'] = df['CO_CEP'].astype(str).str.zfill(8)"
   ]
  },
  {
   "cell_type": "code",
   "execution_count": 69,
   "id": "e4ed27cf",
   "metadata": {},
   "outputs": [],
   "source": [
    "df_enriquecido = df.merge(df_ceps, left_on='CO_CEP', right_on='cep', how='left')"
   ]
  },
  {
   "cell_type": "code",
   "execution_count": 70,
   "id": "80f193a3",
   "metadata": {},
   "outputs": [
    {
     "name": "stdout",
     "output_type": "stream",
     "text": [
      "140\n"
     ]
    }
   ],
   "source": [
    "# Ver linhas duplicadas\n",
    "duplicadas = df_enriquecido.duplicated().sum()\n",
    "print(duplicadas)"
   ]
  },
  {
   "cell_type": "code",
   "execution_count": 71,
   "id": "f1566027",
   "metadata": {},
   "outputs": [],
   "source": [
    "# Remover as linhas duplicadas e manter a primeira ocorrência\n",
    "df_enriquecido = df_enriquecido.drop_duplicates(keep='first')"
   ]
  },
  {
   "cell_type": "code",
   "execution_count": 72,
   "id": "49a9e2b1",
   "metadata": {},
   "outputs": [],
   "source": [
    "# Resetar o índice\n",
    "df_enriquecido.reset_index(drop=True, inplace=True)"
   ]
  },
  {
   "cell_type": "code",
   "execution_count": 82,
   "id": "2ce5d69b",
   "metadata": {},
   "outputs": [
    {
     "data": {
      "text/plain": [
       "CO_CNES                       int64\n",
       "CO_UNIDADE                    int64\n",
       "CO_UF                         int64\n",
       "CO_IBGE                       int64\n",
       "NU_CNPJ_MANTENEDORA         float64\n",
       "NO_RAZAO_SOCIAL              object\n",
       "NO_FANTASIA                  object\n",
       "CO_NATUREZA_ORGANIZACAO     float64\n",
       "DS_NATUREZA_ORGANIZACAO     float64\n",
       "TP_GESTAO                    object\n",
       "CO_NIVEL_HIERARQUIA         float64\n",
       "DS_NIVEL_HIERARQUIA         float64\n",
       "CO_ESFERA_ADMINISTRATIVA    float64\n",
       "DS_ESFERA_ADMINISTRATIVA    float64\n",
       "CO_ATIVIDADE                  int64\n",
       "TP_UNIDADE                    int64\n",
       "CO_CEP                       object\n",
       "NO_LOGRADOURO                object\n",
       "NU_ENDERECO                  object\n",
       "NO_BAIRRO                    object\n",
       "NU_TELEFONE                  object\n",
       "NU_LATITUDE                  object\n",
       "NU_LONGITUDE                 object\n",
       "CO_TURNO_ATENDIMENTO        float64\n",
       "DS_TURNO_ATENDIMENTO         object\n",
       "NU_CNPJ                     float64\n",
       "NO_EMAIL                     object\n",
       "CO_NATUREZA_JUR               int64\n",
       "ST_CENTRO_CIRURGICO          object\n",
       "ST_CENTRO_OBSTETRICO         object\n",
       "ST_CENTRO_NEONATAL           object\n",
       "ST_ATEND_HOSPITALAR          object\n",
       "ST_SERVICO_APOIO             object\n",
       "ST_ATEND_AMBULATORIAL        object\n",
       "CO_MOTIVO_DESAB             float64\n",
       "CO_AMBULATORIAL_SUS          object\n",
       "logradouro                   object\n",
       "complemento                  object\n",
       "unidade                      object\n",
       "bairro                       object\n",
       "localidade                   object\n",
       "uf                           object\n",
       "estado                       object\n",
       "regiao                       object\n",
       "ddd                          object\n",
       "dtype: object"
      ]
     },
     "execution_count": 82,
     "metadata": {},
     "output_type": "execute_result"
    }
   ],
   "source": [
    "df_enriquecido.dtypes"
   ]
  },
  {
   "cell_type": "code",
   "execution_count": null,
   "id": "223cdcfc",
   "metadata": {},
   "outputs": [],
   "source": [
    "# Deletar colunas repetidas e que não preciso. \n",
    "\n",
    "df_enriquecido.drop([\"Unnamed: 0\",\"cep\",\"ibge\",\"gia\",\"siafi\",\"erro\"], axis=1, inplace=True)"
   ]
  },
  {
   "cell_type": "code",
   "execution_count": 87,
   "id": "2ea387c8",
   "metadata": {},
   "outputs": [],
   "source": [
    "# Padronizar as colunas\n",
    "\n",
    "df_enriquecido = df_enriquecido.rename(columns={\"logradouro\": \"LOGRADOURO_ATUALIZADO\",\n",
    "                               \"unidade\": \"UNIDADE\",\n",
    "                               \"complemento\":\"COMPLEMENTO\",\n",
    "                               \"bairro\": \"BAIRRO_ATUALIZADO\",\n",
    "                               \"localidade\": \"CIDADE\",\n",
    "                               \"uf\": \"UF\",\n",
    "                               \"estado\": \"ESTADO\",\n",
    "                               \"regiao\": \"REGIAO\",\n",
    "                               \"ddd\": \"DDD\"})"
   ]
  },
  {
   "cell_type": "code",
   "execution_count": null,
   "id": "852bfe8a",
   "metadata": {},
   "outputs": [],
   "source": [
    "# Padronizando os dados\n",
    "colunas_api = [\"LOGRADOURO_ATUALIZADO\",\"UNIDADE\",\"COMPLEMENTO\",\"BAIRRO_ATUALIZADO\",\"CIDADE\",\"UF\",\"ESTADO\",\"REGIAO\"]\n",
    "\n",
    "for coluna_api in colunas_api:\n",
    "    if coluna_api in df_enriquecido.columns:\n",
    "        df_enriquecido[coluna_api] = df_enriquecido[coluna_api].str.upper()"
   ]
  },
  {
   "cell_type": "code",
   "execution_count": 92,
   "id": "fdbe19ad",
   "metadata": {},
   "outputs": [
    {
     "data": {
      "text/html": [
       "<div>\n",
       "<style scoped>\n",
       "    .dataframe tbody tr th:only-of-type {\n",
       "        vertical-align: middle;\n",
       "    }\n",
       "\n",
       "    .dataframe tbody tr th {\n",
       "        vertical-align: top;\n",
       "    }\n",
       "\n",
       "    .dataframe thead th {\n",
       "        text-align: right;\n",
       "    }\n",
       "</style>\n",
       "<table border=\"1\" class=\"dataframe\">\n",
       "  <thead>\n",
       "    <tr style=\"text-align: right;\">\n",
       "      <th></th>\n",
       "      <th>CO_CNES</th>\n",
       "      <th>CO_UNIDADE</th>\n",
       "      <th>CO_UF</th>\n",
       "      <th>CO_IBGE</th>\n",
       "      <th>NU_CNPJ_MANTENEDORA</th>\n",
       "      <th>NO_RAZAO_SOCIAL</th>\n",
       "      <th>NO_FANTASIA</th>\n",
       "      <th>CO_NATUREZA_ORGANIZACAO</th>\n",
       "      <th>DS_NATUREZA_ORGANIZACAO</th>\n",
       "      <th>TP_GESTAO</th>\n",
       "      <th>...</th>\n",
       "      <th>CO_AMBULATORIAL_SUS</th>\n",
       "      <th>LOGRADOURO_ATUALIZADO</th>\n",
       "      <th>COMPLEMENTO</th>\n",
       "      <th>UNIDADE</th>\n",
       "      <th>BAIRRO_ATUALIZADO</th>\n",
       "      <th>CIDADE</th>\n",
       "      <th>UF</th>\n",
       "      <th>ESTADO</th>\n",
       "      <th>REGIAO</th>\n",
       "      <th>DDD</th>\n",
       "    </tr>\n",
       "  </thead>\n",
       "  <tbody>\n",
       "    <tr>\n",
       "      <th>0</th>\n",
       "      <td>19</td>\n",
       "      <td>2602900000019</td>\n",
       "      <td>26</td>\n",
       "      <td>260290</td>\n",
       "      <td>1.129440e+13</td>\n",
       "      <td>PREFEITURA MUNICIPAL DO CABO DE SANTO AGOSTINHO</td>\n",
       "      <td>POLICLINICA DR JAMACI DE MEDEIROS</td>\n",
       "      <td>NaN</td>\n",
       "      <td>NaN</td>\n",
       "      <td>M</td>\n",
       "      <td>...</td>\n",
       "      <td>SIM</td>\n",
       "      <td>RUA SÃO CARLOS</td>\n",
       "      <td>(LOT B SUCESSO)</td>\n",
       "      <td></td>\n",
       "      <td>PONTE DOS CARVALHOS</td>\n",
       "      <td>CABO DE SANTO AGOSTINHO</td>\n",
       "      <td>PE</td>\n",
       "      <td>PERNAMBUCO</td>\n",
       "      <td>NORDESTE</td>\n",
       "      <td>81</td>\n",
       "    </tr>\n",
       "    <tr>\n",
       "      <th>1</th>\n",
       "      <td>27</td>\n",
       "      <td>2602900000027</td>\n",
       "      <td>26</td>\n",
       "      <td>260290</td>\n",
       "      <td>1.093045e+13</td>\n",
       "      <td>CASA DE SAUDE E MATERNIDADE SANTA HELENA LTDA</td>\n",
       "      <td>CASA DE SAUDE SANTA HELENA</td>\n",
       "      <td>NaN</td>\n",
       "      <td>NaN</td>\n",
       "      <td>M</td>\n",
       "      <td>...</td>\n",
       "      <td>SIM</td>\n",
       "      <td>AVENIDA PRESIDENTE GETÚLIO VARGAS</td>\n",
       "      <td>DE 380/381 AO FIM</td>\n",
       "      <td></td>\n",
       "      <td>CENTRO</td>\n",
       "      <td>CABO DE SANTO AGOSTINHO</td>\n",
       "      <td>PE</td>\n",
       "      <td>PERNAMBUCO</td>\n",
       "      <td>NORDESTE</td>\n",
       "      <td>81</td>\n",
       "    </tr>\n",
       "  </tbody>\n",
       "</table>\n",
       "<p>2 rows × 45 columns</p>\n",
       "</div>"
      ],
      "text/plain": [
       "   CO_CNES     CO_UNIDADE  CO_UF  CO_IBGE  NU_CNPJ_MANTENEDORA  \\\n",
       "0       19  2602900000019     26   260290         1.129440e+13   \n",
       "1       27  2602900000027     26   260290         1.093045e+13   \n",
       "\n",
       "                                   NO_RAZAO_SOCIAL  \\\n",
       "0  PREFEITURA MUNICIPAL DO CABO DE SANTO AGOSTINHO   \n",
       "1    CASA DE SAUDE E MATERNIDADE SANTA HELENA LTDA   \n",
       "\n",
       "                         NO_FANTASIA  CO_NATUREZA_ORGANIZACAO  \\\n",
       "0  POLICLINICA DR JAMACI DE MEDEIROS                      NaN   \n",
       "1         CASA DE SAUDE SANTA HELENA                      NaN   \n",
       "\n",
       "   DS_NATUREZA_ORGANIZACAO TP_GESTAO  ...  CO_AMBULATORIAL_SUS  \\\n",
       "0                      NaN         M  ...                  SIM   \n",
       "1                      NaN         M  ...                  SIM   \n",
       "\n",
       "               LOGRADOURO_ATUALIZADO        COMPLEMENTO  UNIDADE  \\\n",
       "0                     RUA SÃO CARLOS    (LOT B SUCESSO)            \n",
       "1  AVENIDA PRESIDENTE GETÚLIO VARGAS  DE 380/381 AO FIM            \n",
       "\n",
       "     BAIRRO_ATUALIZADO                   CIDADE  UF      ESTADO    REGIAO DDD  \n",
       "0  PONTE DOS CARVALHOS  CABO DE SANTO AGOSTINHO  PE  PERNAMBUCO  NORDESTE  81  \n",
       "1               CENTRO  CABO DE SANTO AGOSTINHO  PE  PERNAMBUCO  NORDESTE  81  \n",
       "\n",
       "[2 rows x 45 columns]"
      ]
     },
     "execution_count": 92,
     "metadata": {},
     "output_type": "execute_result"
    }
   ],
   "source": [
    "df_enriquecido.head(2)"
   ]
  }
 ],
 "metadata": {
  "kernelspec": {
   "display_name": "Python (h1n1)",
   "language": "python",
   "name": "venv_h1n1"
  },
  "language_info": {
   "codemirror_mode": {
    "name": "ipython",
    "version": 3
   },
   "file_extension": ".py",
   "mimetype": "text/x-python",
   "name": "python",
   "nbconvert_exporter": "python",
   "pygments_lexer": "ipython3",
   "version": "3.13.5"
  }
 },
 "nbformat": 4,
 "nbformat_minor": 5
}
