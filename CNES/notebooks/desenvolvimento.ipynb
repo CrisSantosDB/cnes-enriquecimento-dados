{
 "cells": [
  {
   "cell_type": "code",
   "execution_count": null,
   "id": "08507031",
   "metadata": {},
   "outputs": [],
   "source": [
    "# Importar as bibliotecas necessárias\n",
    "\n",
    "import json\n",
    "import requests\n",
    "import pandas as pd \n",
    "import time"
   ]
  },
  {
   "cell_type": "code",
   "execution_count": null,
   "id": "0c86c8e2",
   "metadata": {},
   "outputs": [],
   "source": [
    "# Ler o arquivo, coloquei só 100 linhas como exemplo, por causa do limite de requisição da API, pois estou usando API FREE. E precisei fazer vários testes.\n",
    "\n",
    "df = pd.read_csv(\"/home/cristina/Projetos/cnes-enriquecimento-dados/CNES/data/cnes_amostra.csv\", encoding=\"latin1\", low_memory=False,nrows=100)"
   ]
  },
  {
   "cell_type": "markdown",
   "id": "2b5d76a3",
   "metadata": {},
   "source": [
    "\n",
    "Função cep_api_viacep, recebe um DataFrame contendo uma coluna chamada CO_CEP e faz requisições à API ViaCEP para obter os dados completos de endereço (como logradouro, bairro, cidade e estado) correspondentes a cada CEP.\n",
    "\n",
    "\n",
    "• Utiliza a biblioteca requests para acessar a API.\n",
    "• Percorre cada linha do DataFrame com itertuples().\n",
    "• Para cada CEP:\n",
    "   - Realiza a chamada à API https://viacep.com.br/ws/{cep}/json/.\n",
    "   - Normaliza a resposta JSON em formato de DataFrame.\n",
    "   - Concatena os resultados em um novo DataFrame chamado new_dataframe.\n",
    "• Em caso de erro na requisição (ex: timeout ou CEP inválido), exibe uma mensagem e continua para o próximo CEP.\n",
    "• Ao final, retorna um DataFrame com todos os dados de endereço obtidos.\n",
    "\n"
   ]
  },
  {
   "cell_type": "code",
   "execution_count": null,
   "id": "bb93059a",
   "metadata": {},
   "outputs": [],
   "source": [
    "\n",
    "def cep_api_viacep(dataframe):\n",
    "    new_dataframe = pd.DataFrame()\n",
    "\n",
    "    for row in dataframe.itertuples():\n",
    "\n",
    "        try:\n",
    "            response = requests.get(f'https://viacep.com.br/ws/{row.CO_CEP}/json/',timeout=5)\n",
    "            response.raise_for_status()\n",
    "            response_df = pd.json_normalize(response.json())\n",
    "            new_dataframe = pd.concat([new_dataframe, response_df], ignore_index=True)\n",
    "\n",
    "        except requests.exceptions.RequestException as e:\n",
    "            print(f\"Erro com o CEP {row.CO_CEP}: {e}\")\n",
    "            continue\n",
    "    \n",
    "    return new_dataframe\n"
   ]
  },
  {
   "cell_type": "code",
   "execution_count": null,
   "id": "7cf3ed72",
   "metadata": {},
   "outputs": [],
   "source": [
    "# Obtém os dados de endereço da API ViaCEP com base nos CEPs do DataFrame original\n",
    "df_ceps = cep_api_viacep(df)"
   ]
  },
  {
   "cell_type": "code",
   "execution_count": null,
   "id": "239574a8",
   "metadata": {},
   "outputs": [],
   "source": [
    "# Remove o hífen dos CEPs retornados pela API para igualar ao formato da coluna \"CO_CEP\"\n",
    "df_ceps[\"cep\"] = df_ceps[\"cep\"].str.replace(\"-\", \"\")"
   ]
  },
  {
   "cell_type": "code",
   "execution_count": 68,
   "id": "c36d6bc1",
   "metadata": {},
   "outputs": [],
   "source": [
    "# CO_CEP precisa estar como string com 8 dígitos (igual o 'cep' da API) para o merge funcionar\n",
    "df['CO_CEP'] = df['CO_CEP'].astype(str).str.zfill(8)"
   ]
  },
  {
   "cell_type": "code",
   "execution_count": null,
   "id": "e4ed27cf",
   "metadata": {},
   "outputs": [],
   "source": [
    "# Faz o merge dos dados originais com os dados da API, unindo pela coluna \"CO_CEP\" e \"cep\"\n",
    "# Usa 'left join' para manter todos os registros do DataFrame original (df)\n",
    "\n",
    "df_enriquecido = df.merge(df_ceps, left_on='CO_CEP', right_on='cep', how='left')"
   ]
  },
  {
   "cell_type": "code",
   "execution_count": 71,
   "id": "f1566027",
   "metadata": {},
   "outputs": [],
   "source": [
    "# Remover as linhas duplicadas e manter a primeira ocorrência\n",
    "df_enriquecido = df_enriquecido.drop_duplicates(keep='first')"
   ]
  },
  {
   "cell_type": "code",
   "execution_count": 72,
   "id": "49a9e2b1",
   "metadata": {},
   "outputs": [],
   "source": [
    "# Resetar o índice\n",
    "df_enriquecido.reset_index(drop=True, inplace=True)"
   ]
  },
  {
   "cell_type": "code",
   "execution_count": null,
   "id": "223cdcfc",
   "metadata": {},
   "outputs": [],
   "source": [
    "# Deletar colunas repetidas e que não precisamos. \n",
    "\n",
    "df_enriquecido.drop([\"Unnamed: 0\",\"cep\",\"ibge\",\"gia\",\"siafi\",\"erro\"], axis=1, inplace=True)"
   ]
  },
  {
   "cell_type": "code",
   "execution_count": 87,
   "id": "2ea387c8",
   "metadata": {},
   "outputs": [],
   "source": [
    "# Padronizar as colunas\n",
    "\n",
    "df_enriquecido = df_enriquecido.rename(columns={\"logradouro\": \"LOGRADOURO_ATUALIZADO\",\n",
    "                               \"unidade\": \"UNIDADE\",\n",
    "                               \"complemento\":\"COMPLEMENTO\",\n",
    "                               \"bairro\": \"BAIRRO_ATUALIZADO\",\n",
    "                               \"localidade\": \"CIDADE\",\n",
    "                               \"uf\": \"UF\",\n",
    "                               \"estado\": \"ESTADO\",\n",
    "                               \"regiao\": \"REGIAO\",\n",
    "                               \"ddd\": \"DDD\"})"
   ]
  },
  {
   "cell_type": "code",
   "execution_count": null,
   "id": "852bfe8a",
   "metadata": {},
   "outputs": [],
   "source": [
    "# Padronizando os dados\n",
    "colunas_api = [\"LOGRADOURO_ATUALIZADO\",\"UNIDADE\",\"COMPLEMENTO\",\"BAIRRO_ATUALIZADO\",\"CIDADE\",\"UF\",\"ESTADO\",\"REGIAO\"]\n",
    "\n",
    "for coluna_api in colunas_api:\n",
    "    if coluna_api in df_enriquecido.columns:\n",
    "        df_enriquecido[coluna_api] = df_enriquecido[coluna_api].str.upper()"
   ]
  },
  {
   "cell_type": "code",
   "execution_count": null,
   "id": "34622035",
   "metadata": {},
   "outputs": [],
   "source": [
    "# Criar o arquivo com dados enriquecidos \n",
    "df_enriquecido.to_csv(\"/home/cristina/Projetos/cnes-enriquecimento-dados/CNES/data/cnes_dados_enriquecidos.csv\", index=False)"
   ]
  }
 ],
 "metadata": {
  "kernelspec": {
   "display_name": "Python (h1n1)",
   "language": "python",
   "name": "venv_h1n1"
  },
  "language_info": {
   "codemirror_mode": {
    "name": "ipython",
    "version": 3
   },
   "file_extension": ".py",
   "mimetype": "text/x-python",
   "name": "python",
   "nbconvert_exporter": "python",
   "pygments_lexer": "ipython3",
   "version": "3.13.5"
  }
 },
 "nbformat": 4,
 "nbformat_minor": 5
}
